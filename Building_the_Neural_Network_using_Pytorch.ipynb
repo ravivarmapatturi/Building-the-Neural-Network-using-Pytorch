{
  "nbformat": 4,
  "nbformat_minor": 0,
  "metadata": {
    "colab": {
      "provenance": []
    },
    "kernelspec": {
      "name": "python3",
      "display_name": "Python 3"
    },
    "language_info": {
      "name": "python"
    }
  },
  "cells": [
    {
      "cell_type": "markdown",
      "source": [
        "## importing libraries"
      ],
      "metadata": {
        "id": "-aMvG56ngoJx"
      }
    },
    {
      "cell_type": "code",
      "execution_count": null,
      "metadata": {
        "id": "cvnXhhy3gLAQ"
      },
      "outputs": [],
      "source": [
        "import numpy as np\n",
        "import pandas as pd\n",
        "import torch\n",
        "from matplotlib import pyplot as plt\n",
        "from sklearn import datasets\n",
        "from torch.utils.data import Dataset, DataLoader\n",
        "import torch.nn as nn\n",
        "import torch.optim as optim\n",
        "import torch.nn.functional as F\n",
        "from sklearn.model_selection import train_test_split"
      ]
    },
    {
      "cell_type": "code",
      "source": [
        "dataset= datasets.load_iris()"
      ],
      "metadata": {
        "id": "rqw_JsyLggax"
      },
      "execution_count": null,
      "outputs": []
    },
    {
      "cell_type": "code",
      "source": [
        "dataset.keys()"
      ],
      "metadata": {
        "colab": {
          "base_uri": "https://localhost:8080/"
        },
        "id": "rNf35I2ag9l8",
        "outputId": "108967f6-94e1-4ad6-c406-ba6056c158b5"
      },
      "execution_count": null,
      "outputs": [
        {
          "output_type": "execute_result",
          "data": {
            "text/plain": [
              "dict_keys(['data', 'target', 'frame', 'target_names', 'DESCR', 'feature_names', 'filename', 'data_module'])"
            ]
          },
          "metadata": {},
          "execution_count": 6
        }
      ]
    },
    {
      "cell_type": "code",
      "source": [
        "x=dataset.data\n",
        "y=dataset.target\n",
        "x_tensor=torch.tensor(x,dtype=torch.float32)\n",
        "y_tensor=torch.tensor(y,dtype=torch.long).reshape(-1,1)"
      ],
      "metadata": {
        "id": "5plbzRang-k2"
      },
      "execution_count": null,
      "outputs": []
    },
    {
      "cell_type": "code",
      "source": [
        "print(x_tensor.shape)\n",
        "print(y_tensor.shape)"
      ],
      "metadata": {
        "colab": {
          "base_uri": "https://localhost:8080/"
        },
        "id": "IBE5ItsdiXm8",
        "outputId": "51c11486-563e-4b29-9ce4-aa4479760fc4"
      },
      "execution_count": null,
      "outputs": [
        {
          "output_type": "stream",
          "name": "stdout",
          "text": [
            "torch.Size([150, 4])\n",
            "torch.Size([150, 1])\n"
          ]
        }
      ]
    },
    {
      "cell_type": "code",
      "source": [
        "x_train,x_test,y_train,y_test=train_test_split(x_tensor,y_tensor,test_size=0.2,random_state=42)"
      ],
      "metadata": {
        "id": "4DZupVwyi2nl"
      },
      "execution_count": null,
      "outputs": []
    },
    {
      "cell_type": "code",
      "source": [
        "train_dataset=torch.utils.data.TensorDataset(x_train,y_train)\n",
        "test_dataset=torch.utils.data.TensorDataset(x_test,y_test)"
      ],
      "metadata": {
        "id": "RUHT0vgIjWiy"
      },
      "execution_count": null,
      "outputs": []
    },
    {
      "cell_type": "code",
      "source": [
        "train_dataloader=DataLoader(train_dataset,batch_size=10,shuffle=True)\n",
        "test_dataloader=DataLoader(test_dataset,batch_size=10,shuffle=True)"
      ],
      "metadata": {
        "id": "-c0AuVwgjvca"
      },
      "execution_count": null,
      "outputs": []
    },
    {
      "cell_type": "code",
      "source": [],
      "metadata": {
        "id": "nziKQpYwkGeu"
      },
      "execution_count": null,
      "outputs": []
    },
    {
      "cell_type": "markdown",
      "source": [
        "## lets build the neural network"
      ],
      "metadata": {
        "id": "AoCFqLc9kIW_"
      }
    },
    {
      "cell_type": "code",
      "source": [
        "class NeuralNetwork(nn.Module):\n",
        "    def __init__(self,input_size,hidden_size,output_size):\n",
        "        super(NeuralNetwork,self).__init__()\n",
        "        self.input_size=input_size\n",
        "        self.hidden_size=hidden_size\n",
        "        self.output_size=output_size\n",
        "        self.fc1=nn.Linear(self.input_size,self.hidden_size)\n",
        "        self.fc2=nn.Linear(self.hidden_size,self.output_size)\n",
        "        self.relu=nn.ReLU()\n",
        "\n",
        "    def forward(self,x):\n",
        "        out=self.fc1(x)\n",
        "        out=self.relu(out)\n",
        "        out=self.fc2(out)\n",
        "        return out\n",
        "\n",
        "\n",
        "\n"
      ],
      "metadata": {
        "id": "w3SNA-8FkLmU"
      },
      "execution_count": null,
      "outputs": []
    },
    {
      "cell_type": "code",
      "source": [
        "model=NeuralNetwork(4,10,3)"
      ],
      "metadata": {
        "id": "Plt9xWZ_mBkF"
      },
      "execution_count": null,
      "outputs": []
    },
    {
      "cell_type": "code",
      "source": [
        "criterion=nn.CrossEntropyLoss()\n",
        "optimizer=optim.Adam(model.parameters(),lr=0.001)\n"
      ],
      "metadata": {
        "id": "1HkD9uIKlYrE"
      },
      "execution_count": null,
      "outputs": []
    },
    {
      "cell_type": "code",
      "source": [
        "epochs=100\n",
        "for i in range(epochs):\n",
        "    for x,y in train_dataloader:\n",
        "        optimizer.zero_grad()\n",
        "        output=model.forward(x)\n",
        "        loss=criterion(output,y.flatten())\n",
        "        loss.backward()\n",
        "        optimizer.step()\n",
        "    print(f\"epoch:{i+1},loss:{loss.item()}\")"
      ],
      "metadata": {
        "colab": {
          "base_uri": "https://localhost:8080/"
        },
        "id": "SWlYkfyll0gM",
        "outputId": "bbd7f9a2-8dbe-4dab-cec4-53606f0c8d75"
      },
      "execution_count": null,
      "outputs": [
        {
          "output_type": "stream",
          "name": "stdout",
          "text": [
            "epoch:1,loss:1.26605224609375\n",
            "epoch:2,loss:0.826928436756134\n",
            "epoch:3,loss:1.0261826515197754\n",
            "epoch:4,loss:0.965894341468811\n",
            "epoch:5,loss:1.0228389501571655\n",
            "epoch:6,loss:1.0386954545974731\n",
            "epoch:7,loss:0.8454675674438477\n",
            "epoch:8,loss:0.854212760925293\n",
            "epoch:9,loss:0.6971083879470825\n",
            "epoch:10,loss:0.6293137669563293\n",
            "epoch:11,loss:0.654321551322937\n",
            "epoch:12,loss:0.7368487119674683\n",
            "epoch:13,loss:0.6774781942367554\n",
            "epoch:14,loss:0.686235785484314\n",
            "epoch:15,loss:0.5552676320075989\n",
            "epoch:16,loss:0.6011191606521606\n",
            "epoch:17,loss:0.7641696929931641\n",
            "epoch:18,loss:0.5016418695449829\n",
            "epoch:19,loss:0.5982299447059631\n",
            "epoch:20,loss:0.6280084848403931\n",
            "epoch:21,loss:0.5487491488456726\n",
            "epoch:22,loss:0.39705365896224976\n",
            "epoch:23,loss:0.5131523013114929\n",
            "epoch:24,loss:0.48134881258010864\n",
            "epoch:25,loss:0.5109881162643433\n",
            "epoch:26,loss:0.6049707531929016\n",
            "epoch:27,loss:0.48152726888656616\n",
            "epoch:28,loss:0.6021783947944641\n",
            "epoch:29,loss:0.49332308769226074\n",
            "epoch:30,loss:0.6351650357246399\n",
            "epoch:31,loss:0.4113757610321045\n",
            "epoch:32,loss:0.48032552003860474\n",
            "epoch:33,loss:0.42964276671409607\n",
            "epoch:34,loss:0.5226731896400452\n",
            "epoch:35,loss:0.33854562044143677\n",
            "epoch:36,loss:0.34395161271095276\n",
            "epoch:37,loss:0.569284200668335\n",
            "epoch:38,loss:0.36372262239456177\n",
            "epoch:39,loss:0.37369781732559204\n",
            "epoch:40,loss:0.34429553151130676\n",
            "epoch:41,loss:0.3281717896461487\n",
            "epoch:42,loss:0.525762677192688\n",
            "epoch:43,loss:0.4119187891483307\n",
            "epoch:44,loss:0.274329274892807\n",
            "epoch:45,loss:0.3529258966445923\n",
            "epoch:46,loss:0.44745397567749023\n",
            "epoch:47,loss:0.5050768256187439\n",
            "epoch:48,loss:0.23936191201210022\n",
            "epoch:49,loss:0.3716248571872711\n",
            "epoch:50,loss:0.4069744646549225\n",
            "epoch:51,loss:0.35876351594924927\n",
            "epoch:52,loss:0.3208655118942261\n",
            "epoch:53,loss:0.41720303893089294\n",
            "epoch:54,loss:0.25435543060302734\n",
            "epoch:55,loss:0.22963055968284607\n",
            "epoch:56,loss:0.4019121527671814\n",
            "epoch:57,loss:0.3324180245399475\n",
            "epoch:58,loss:0.3430625796318054\n",
            "epoch:59,loss:0.313017874956131\n",
            "epoch:60,loss:0.3659312129020691\n",
            "epoch:61,loss:0.33298438787460327\n",
            "epoch:62,loss:0.19156745076179504\n",
            "epoch:63,loss:0.2251449078321457\n",
            "epoch:64,loss:0.18402890861034393\n",
            "epoch:65,loss:0.19367048144340515\n",
            "epoch:66,loss:0.1568606197834015\n",
            "epoch:67,loss:0.1734529435634613\n",
            "epoch:68,loss:0.23119544982910156\n",
            "epoch:69,loss:0.2224891185760498\n",
            "epoch:70,loss:0.22370395064353943\n",
            "epoch:71,loss:0.24541997909545898\n",
            "epoch:72,loss:0.20607784390449524\n",
            "epoch:73,loss:0.2761612832546234\n",
            "epoch:74,loss:0.33162248134613037\n",
            "epoch:75,loss:0.177002415060997\n",
            "epoch:76,loss:0.1694091111421585\n",
            "epoch:77,loss:0.344150573015213\n",
            "epoch:78,loss:0.33753082156181335\n",
            "epoch:79,loss:0.22414565086364746\n",
            "epoch:80,loss:0.21188072860240936\n",
            "epoch:81,loss:0.20022937655448914\n",
            "epoch:82,loss:0.2032157927751541\n",
            "epoch:83,loss:0.17747065424919128\n",
            "epoch:84,loss:0.23616214096546173\n",
            "epoch:85,loss:0.21636661887168884\n",
            "epoch:86,loss:0.23710186779499054\n",
            "epoch:87,loss:0.16329827904701233\n",
            "epoch:88,loss:0.19818918406963348\n",
            "epoch:89,loss:0.205178901553154\n",
            "epoch:90,loss:0.23319439589977264\n",
            "epoch:91,loss:0.21825715899467468\n",
            "epoch:92,loss:0.21627061069011688\n",
            "epoch:93,loss:0.12132443487644196\n",
            "epoch:94,loss:0.2917100489139557\n",
            "epoch:95,loss:0.260873019695282\n",
            "epoch:96,loss:0.1706242561340332\n",
            "epoch:97,loss:0.15573334693908691\n",
            "epoch:98,loss:0.07004600763320923\n",
            "epoch:99,loss:0.13889777660369873\n",
            "epoch:100,loss:0.22096101939678192\n"
          ]
        }
      ]
    },
    {
      "cell_type": "code",
      "source": [
        "torch.save(model,\"iris_model.pth\")"
      ],
      "metadata": {
        "id": "DvhlU3Jimmk3"
      },
      "execution_count": null,
      "outputs": []
    },
    {
      "cell_type": "code",
      "source": [
        "for param in model.parameters():\n",
        "    print(param)"
      ],
      "metadata": {
        "colab": {
          "base_uri": "https://localhost:8080/"
        },
        "id": "CM2wO1yIn6AM",
        "outputId": "256d028a-3369-47e5-b19a-ebfbfbdf131e"
      },
      "execution_count": null,
      "outputs": [
        {
          "output_type": "stream",
          "name": "stdout",
          "text": [
            "Parameter containing:\n",
            "tensor([[ 0.4624, -0.3008,  0.2764,  0.9762],\n",
            "        [ 0.3687, -0.5403, -0.2267, -0.0228],\n",
            "        [ 0.3787, -0.4812,  0.6290,  0.9274],\n",
            "        [-0.1622,  0.8961, -0.1303, -0.7365],\n",
            "        [ 0.4216, -0.4179, -0.3041,  0.0474],\n",
            "        [-0.4400,  0.1900, -0.4820,  0.4012],\n",
            "        [ 0.1079, -0.4908, -0.4801,  0.3006],\n",
            "        [ 0.4637,  0.6386, -0.6514, -0.8181],\n",
            "        [-0.4206, -0.1295, -0.1646, -0.4842],\n",
            "        [ 0.4597,  0.2181, -0.5248, -0.3296]], requires_grad=True)\n",
            "Parameter containing:\n",
            "tensor([ 0.3051, -0.0548,  0.0167,  0.8637,  0.3292,  0.4515, -0.3330,  0.5218,\n",
            "        -0.1184,  0.0948], requires_grad=True)\n",
            "Parameter containing:\n",
            "tensor([[-0.1923,  0.2315, -0.4367,  1.0049, -0.0137,  0.2976, -0.1891,  0.7475,\n",
            "         -0.2905,  0.8395],\n",
            "        [ 0.3372,  0.0660,  0.2775,  0.2501,  0.5377, -0.3067, -0.0270, -0.0497,\n",
            "         -0.2414,  0.4853],\n",
            "        [ 0.4608,  0.1215,  0.6309, -1.1074, -0.3601, -0.3133, -0.0865, -0.9379,\n",
            "         -0.1605, -1.0707]], requires_grad=True)\n",
            "Parameter containing:\n",
            "tensor([ 0.2114, -0.0861, -0.2109], requires_grad=True)\n"
          ]
        }
      ]
    },
    {
      "cell_type": "code",
      "source": [
        "actual=[]\n",
        "prediction=[]\n",
        "for x,y in test_dataloader:\n",
        "    output=model.forward(x)\n",
        "    _,predicted=torch.max(output,1)\n",
        "    actual.extend(y.flatten().tolist())\n",
        "    prediction.extend(predicted.flatten().tolist())\n"
      ],
      "metadata": {
        "id": "KPLKMplpoN3e"
      },
      "execution_count": null,
      "outputs": []
    },
    {
      "cell_type": "code",
      "source": [
        "from sklearn.metrics import confusion_matrix\n",
        "import seaborn as sns"
      ],
      "metadata": {
        "id": "SiixFKsCoQ_N"
      },
      "execution_count": null,
      "outputs": []
    },
    {
      "cell_type": "code",
      "source": [
        "cm=confusion_matrix(actual,prediction)\n",
        "sns.heatmap(cm,annot=True)\n",
        "plt.xlabel(\"Truth\")\n",
        "plt.ylabel(\"Predicted\")\n",
        "plt.show()"
      ],
      "metadata": {
        "colab": {
          "base_uri": "https://localhost:8080/",
          "height": 449
        },
        "id": "IgsoyTVdqKPL",
        "outputId": "e63bee74-7e02-4a5f-902e-95136b6ebe1a"
      },
      "execution_count": null,
      "outputs": [
        {
          "output_type": "display_data",
          "data": {
            "text/plain": [
              "<Figure size 640x480 with 2 Axes>"
            ],
            "image/png": "[encoded data removed]"
          },
          "metadata": {}
        }
      ]
    },
    {
      "cell_type": "code",
      "source": [],
      "metadata": {
        "id": "n1h__KYGqS6k"
      },
      "execution_count": null,
      "outputs": []
    }
  ]
}